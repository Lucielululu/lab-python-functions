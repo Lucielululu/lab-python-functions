{
 "cells": [
  {
   "cell_type": "markdown",
   "id": "25d7736c-ba17-4aff-b6bb-66eba20fbf4e",
   "metadata": {},
   "source": [
    "# Lab | Functions"
   ]
  },
  {
   "cell_type": "markdown",
   "id": "0c581062-8967-4d93-b06e-62833222f930",
   "metadata": {
    "tags": []
   },
   "source": [
    "## Exercise: Managing Customer Orders with Functions\n",
    "\n",
    "In the previous exercise, you improved the code for managing customer orders by using loops and flow control. Now, let's take it a step further and refactor the code by introducing functions.\n",
    "\n",
    "Follow the steps below to complete the exercise:\n",
    "\n",
    "1. Define a function named `initialize_inventory` that takes `products` as a parameter. Inside the function, implement the code for initializing the inventory dictionary using a loop and user input.\n",
    "\n",
    "2. Define a function named `get_customer_orders` that takes no parameters. Inside the function, implement the code for prompting the user to enter the product names using a loop. The function should return the `customer_orders` set.\n",
    "\n",
    "3. Define a function named `update_inventory` that takes `customer_orders` and `inventory` as parameters. Inside the function, implement the code for updating the inventory dictionary based on the customer orders.\n",
    "\n",
    "4. Define a function named `calculate_order_statistics` that takes `customer_orders` and `products` as parameters. Inside the function, implement the code for calculating the order statistics (total products ordered, and percentage of unique products ordered). The function should return these values.\n",
    "\n",
    "5. Define a function named `print_order_statistics` that takes `order_statistics` as a parameter. Inside the function, implement the code for printing the order statistics.\n",
    "\n",
    "6. Define a function named `print_updated_inventory` that takes `inventory` as a parameter. Inside the function, implement the code for printing the updated inventory.\n",
    "\n",
    "7. Call the functions in the appropriate sequence to execute the program and manage customer orders.\n",
    "\n",
    "Hints for functions:\n",
    "\n",
    "- Consider the input parameters required for each function and their return values.\n",
    "- Utilize function parameters and return values to transfer data between functions.\n",
    "- Test your functions individually to ensure they work correctly.\n",
    "\n",
    "\n"
   ]
  },
  {
   "cell_type": "code",
   "execution_count": 2,
   "id": "eb88b1c7-f839-40a5-be05-82dec918c1cd",
   "metadata": {},
   "outputs": [
    {
     "name": "stdin",
     "output_type": "stream",
     "text": [
      "How many t-shirt do you have? 5\n",
      "How many mug do you have? 10\n",
      "How many hat do you have? 15\n",
      "How many book do you have? 20\n",
      "How many keychain do you have? 25\n"
     ]
    },
    {
     "data": {
      "text/plain": [
       "{'t-shirt': 5, 'mug': 10, 'hat': 15, 'book': 20, 'keychain': 25}"
      ]
     },
     "execution_count": 2,
     "metadata": {},
     "output_type": "execute_result"
    }
   ],
   "source": [
    "# Step 1:\n",
    "# Define a function named initialize_inventory that takes products as a parameter. \n",
    "# Inside the function, implement the code for initializing the inventory dictionary using a loop and user input.\n",
    "\n",
    "products = [\"t-shirt\", \"mug\", \"hat\", \"book\", \"keychain\"]\n",
    "inventory = {}\n",
    "\n",
    "def initialize_inventory(products):\n",
    "    for product in products:\n",
    "        qty = int(input(f\"How many {product} do you have?\"))\n",
    "        inventory[product] = qty\n",
    "    return inventory\n",
    "initialize_inventory(products)"
   ]
  },
  {
   "cell_type": "code",
   "execution_count": 4,
   "id": "a67e4da8-1175-4763-b9bc-b28d9395b602",
   "metadata": {},
   "outputs": [
    {
     "name": "stdin",
     "output_type": "stream",
     "text": [
      "What product do you want to buy book\n",
      "Do you want to add more products? (yes/no): yes\n",
      "What product do you want to buy hat\n",
      "Do you want to add more products? (yes/no): yes\n",
      "What product do you want to buy mug\n",
      "Do you want to add more products? (yes/no): no\n"
     ]
    },
    {
     "name": "stdout",
     "output_type": "stream",
     "text": [
      "Ok thank you!\n"
     ]
    },
    {
     "data": {
      "text/plain": [
       "{'book', 'hat', 'mug'}"
      ]
     },
     "execution_count": 4,
     "metadata": {},
     "output_type": "execute_result"
    }
   ],
   "source": [
    "# Step 2:\n",
    "# Define a function named get_customer_orders that takes no parameters. \n",
    "#Inside the function, implement the code for prompting the user to enter the product names using a loop. \n",
    "#The function should return the customer_orders set.\n",
    "\n",
    "customer_orders = set() # still need a global parameter that's an empty set\n",
    "\n",
    "\n",
    "def get_customer_orders(): #the 3 products cutomer wants to buy.\n",
    "\n",
    "    while True:\n",
    "        order = input(\"What product do you want to buy\").strip().lower()\n",
    "        if order in products:\n",
    "            customer_orders.add(order)\n",
    "        else:\n",
    "            print(\"Invalid answer, please enter a product that's available\")\n",
    "            continue\n",
    "        add_product = str(input(\"Do you want to add more products? (yes/no):\").strip().lower())\n",
    "        if add_product == 'yes':\n",
    "            continue\n",
    "        elif add_product == \"no\":\n",
    "            print(\"Ok thank you!\")\n",
    "            break\n",
    "    return customer_orders\n",
    "\n",
    "get_customer_orders()"
   ]
  },
  {
   "cell_type": "code",
   "execution_count": 6,
   "id": "f7d57c1b-fca0-4705-b68f-3693c0e8c3c9",
   "metadata": {},
   "outputs": [
    {
     "name": "stdin",
     "output_type": "stream",
     "text": [
      "how many mug do you want to buy? 5\n",
      "how many book do you want to buy? 2\n",
      "how many hat do you want to buy? 3\n"
     ]
    },
    {
     "name": "stdout",
     "output_type": "stream",
     "text": [
      "{'t-shirt': 5, 'mug': 5, 'hat': 12, 'book': 18, 'keychain': 25}\n"
     ]
    }
   ],
   "source": [
    "#Step 3:\n",
    "# Define a function named update_inventory that takes customer_orders and inventory as parameters. \n",
    "# Inside the function, implement the code for updating the inventory dictionary based on the customer orders.\n",
    "# 还要进一步学习.copy method。对比lab2。\n",
    "# 我经常在函数命名后不知道设置什么参数。因为有时候我写的函数不需要参数也能运行。这就导致我不知道什么时候要写函数。\n",
    "\n",
    "customer_orders_dict = {} # 创建一个新customer orders字典，得出客人每样东西买了几个。\n",
    "\n",
    "\n",
    "def update_inventory(customer_orders,inventory):\n",
    "    updated_inventory = inventory.copy() #为什么要建立copy？\n",
    "    for product in customer_orders:\n",
    "        value = int(input(f\"how many {product} do you want to buy?\"))# 难点： how to add these new elements to the new dic?\n",
    "        customer_orders_dict[product] = value\n",
    "    # print(customer_orders_dict)\n",
    "    # print(inventory)\n",
    "    for key,value in customer_orders_dict.items(): # 再用两个字典里重叠的部分相减得出 upaded inventory。要再仔细看看！\n",
    "        if key in updated_inventory.keys():\n",
    "            updated_inventory[key]-=customer_orders_dict[key]\n",
    "    print(updated_inventory)\n",
    "\n",
    "update_inventory(customer_orders,inventory)        "
   ]
  },
  {
   "cell_type": "code",
   "execution_count": null,
   "id": "0edd1cd1-7e58-4992-9882-9f429aed0bc6",
   "metadata": {},
   "outputs": [],
   "source": [
    "# 疑惑： 什么时候需要用def函数?什么时候用loop反而更简单？"
   ]
  },
  {
   "cell_type": "code",
   "execution_count": 8,
   "id": "00870a68-0736-4aa9-97e8-937d6751a9a7",
   "metadata": {},
   "outputs": [],
   "source": [
    "# #Precious Step 3:\n",
    "# # Define a function named update_inventory that takes customer_orders and inventory as parameters. \n",
    "# # Inside the function, implement the code for updating the inventory dictionary based on the customer orders.\n",
    "# # 还要进一步学习.copy method。对比lab2。\n",
    "# # 我经常在函数命名后不知道设置什么参数。因为有时候我写的函数不需要参数也能运行。这就导致我不知道什么时候要写函数。\n",
    "\n",
    "# def update_inventory(customer_orders,inventory):\n",
    "#     updated_inventory = inventory.copy()\n",
    "#     for key,value in inventory.items():\n",
    "#         if key in customer_orders:\n",
    "#             updated_inventory[key] = value - 1\n",
    "#     return updated_inventory\n",
    "\n",
    "# update_inventory(customer_orders,inventory)"
   ]
  },
  {
   "cell_type": "code",
   "execution_count": 10,
   "id": "b8a6610a-1dd6-4cff-80bd-f9e68d97e49a",
   "metadata": {},
   "outputs": [
    {
     "data": {
      "text/plain": [
       "(10, 60.0)"
      ]
     },
     "execution_count": 10,
     "metadata": {},
     "output_type": "execute_result"
    }
   ],
   "source": [
    "# Step 4:\n",
    "# Define a function named calculate_order_statistics that takes customer_orders and products as parameters. \n",
    "# Inside the function, implement the code for calculating the order statistics (total products ordered, and percentage of unique products ordered). \n",
    "# The function should return these values.\n",
    "\n",
    "# 1.Total Products Ordered: The total number of products in the customer_orders set。求3样物品的和。\n",
    "\n",
    "def calculate_order_statistics(customer_orders,products):\n",
    "    total_products_ordered = sum((customer_orders_dict).values())\n",
    "    unique_products_ordered = len(customer_orders_dict.keys())\n",
    "    unique_inventory_products = len(products)\n",
    "    percentage = (unique_products_ordered / unique_inventory_products) * 100\n",
    "    return (total_products_ordered, percentage)\n",
    "\n",
    "calculate_order_statistics(customer_orders,products)\n"
   ]
  },
  {
   "cell_type": "code",
   "execution_count": 12,
   "id": "034ac578-841f-4606-8e4d-64157963f4e5",
   "metadata": {},
   "outputs": [],
   "source": [
    "# # Previous Step 4:\n",
    "# # Define a function named calculate_order_statistics that takes customer_orders and products as parameters. \n",
    "# # Inside the function, implement the code for calculating the order statistics (total products ordered, and percentage of unique products ordered). \n",
    "# # The function should return these values.\n",
    "\n",
    "# # 1.Total Products Ordered: The total number of products in the customer_orders set。求3样物品的和。\n",
    "\n",
    "# def calculate_order_statistics(customer_orders,products):\n",
    "#     total_product_ordered = 0  # Initialize total product ordered to 0\n",
    "#     for product in customer_orders:\n",
    "#          total_product_ordered += inventory.get(product)\n",
    "#     return total_product_ordered,percentage_unique_ordered\n",
    "\n",
    "# calculate_order_statistics()\n",
    "\n",
    "\n",
    "# # 2. Percentage of individual products ordered: The percentage of each products ordered compared to the total available products. \n",
    "\n",
    "# #percentage_unique_ordered = inventory. / sum(inventory.values() ) * 100"
   ]
  },
  {
   "cell_type": "code",
   "execution_count": 22,
   "id": "d018677e-7b2a-42a1-939b-aad3b40fdc74",
   "metadata": {},
   "outputs": [
    {
     "name": "stdout",
     "output_type": "stream",
     "text": [
      "Order Status:\n"
     ]
    },
    {
     "ename": "NameError",
     "evalue": "name 'total_products_ordered' is not defined",
     "output_type": "error",
     "traceback": [
      "\u001b[1;31m---------------------------------------------------------------------------\u001b[0m",
      "\u001b[1;31mNameError\u001b[0m                                 Traceback (most recent call last)",
      "Cell \u001b[1;32mIn[22], line 9\u001b[0m\n\u001b[0;32m      6\u001b[0m     \u001b[38;5;28mprint\u001b[39m(\u001b[38;5;124mf\u001b[39m\u001b[38;5;124m\"\u001b[39m\u001b[38;5;124mTotal Products Ordered: \u001b[39m\u001b[38;5;132;01m{\u001b[39;00mtotal_products_ordered\u001b[38;5;132;01m}\u001b[39;00m\u001b[38;5;124m\"\u001b[39m)\n\u001b[0;32m      7\u001b[0m     \u001b[38;5;28mprint\u001b[39m(\u001b[38;5;124m\"\u001b[39m\u001b[38;5;124mTotal Products Ordered:\u001b[39m\u001b[38;5;124m\"\u001b[39m, \u001b[38;5;28mround\u001b[39m(percentage_products_ordered, \u001b[38;5;241m2\u001b[39m), \u001b[38;5;124m\"\u001b[39m\u001b[38;5;124m%\u001b[39m\u001b[38;5;124m\"\u001b[39m)\n\u001b[1;32m----> 9\u001b[0m print_order_statistics(calculate_order_statistics)\n",
      "Cell \u001b[1;32mIn[22], line 6\u001b[0m, in \u001b[0;36mprint_order_statistics\u001b[1;34m(calculate_order_statistics)\u001b[0m\n\u001b[0;32m      4\u001b[0m \u001b[38;5;28;01mdef\u001b[39;00m \u001b[38;5;21mprint_order_statistics\u001b[39m(calculate_order_statistics):\n\u001b[0;32m      5\u001b[0m     \u001b[38;5;28mprint\u001b[39m(\u001b[38;5;124m\"\u001b[39m\u001b[38;5;124mOrder Status:\u001b[39m\u001b[38;5;124m\"\u001b[39m)\n\u001b[1;32m----> 6\u001b[0m     \u001b[38;5;28mprint\u001b[39m(\u001b[38;5;124mf\u001b[39m\u001b[38;5;124m\"\u001b[39m\u001b[38;5;124mTotal Products Ordered: \u001b[39m\u001b[38;5;132;01m{\u001b[39;00mtotal_products_ordered\u001b[38;5;132;01m}\u001b[39;00m\u001b[38;5;124m\"\u001b[39m)\n\u001b[0;32m      7\u001b[0m     \u001b[38;5;28mprint\u001b[39m(\u001b[38;5;124m\"\u001b[39m\u001b[38;5;124mTotal Products Ordered:\u001b[39m\u001b[38;5;124m\"\u001b[39m, \u001b[38;5;28mround\u001b[39m(percentage_products_ordered, \u001b[38;5;241m2\u001b[39m), \u001b[38;5;124m\"\u001b[39m\u001b[38;5;124m%\u001b[39m\u001b[38;5;124m\"\u001b[39m)\n",
      "\u001b[1;31mNameError\u001b[0m: name 'total_products_ordered' is not defined"
     ]
    }
   ],
   "source": [
    "# Step 5: Define a function named print_order_statistics that takes order_statistics as a parameter. \n",
    "# Inside the function, implement the code for printing the order statistics.\n",
    "\n",
    "def print_order_statistics(calculate_order_statistics):\n",
    "    print(\"Order Status:\")\n",
    "    print(f\"Total Products Ordered: {total_products_ordered}\")\n",
    "    print(\"Total Products Ordered:\", round(percentage_products_ordered, 2), \"%\")\n",
    "    \n",
    "print_order_statistics(calculate_order_statistics)"
   ]
  }
 ],
 "metadata": {
  "kernelspec": {
   "display_name": "Python [conda env:base] *",
   "language": "python",
   "name": "conda-base-py"
  },
  "language_info": {
   "codemirror_mode": {
    "name": "ipython",
    "version": 3
   },
   "file_extension": ".py",
   "mimetype": "text/x-python",
   "name": "python",
   "nbconvert_exporter": "python",
   "pygments_lexer": "ipython3",
   "version": "3.12.7"
  }
 },
 "nbformat": 4,
 "nbformat_minor": 5
}
