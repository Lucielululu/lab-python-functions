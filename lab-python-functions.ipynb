{
 "cells": [
  {
   "cell_type": "markdown",
   "id": "25d7736c-ba17-4aff-b6bb-66eba20fbf4e",
   "metadata": {},
   "source": [
    "# Lab | Functions"
   ]
  },
  {
   "cell_type": "markdown",
   "id": "0c581062-8967-4d93-b06e-62833222f930",
   "metadata": {
    "tags": []
   },
   "source": [
    "## Exercise: Managing Customer Orders with Functions\n",
    "\n",
    "In the previous exercise, you improved the code for managing customer orders by using loops and flow control. Now, let's take it a step further and refactor the code by introducing functions.\n",
    "\n",
    "Follow the steps below to complete the exercise:\n",
    "\n",
    "1. Define a function named `initialize_inventory` that takes `products` as a parameter. Inside the function, implement the code for initializing the inventory dictionary using a loop and user input.\n",
    "\n",
    "2. Define a function named `get_customer_orders` that takes no parameters. Inside the function, implement the code for prompting the user to enter the product names using a loop. The function should return the `customer_orders` set.\n",
    "\n",
    "3. Define a function named `update_inventory` that takes `customer_orders` and `inventory` as parameters. Inside the function, implement the code for updating the inventory dictionary based on the customer orders.\n",
    "\n",
    "4. Define a function named `calculate_order_statistics` that takes `customer_orders` and `products` as parameters. Inside the function, implement the code for calculating the order statistics (total products ordered, and percentage of unique products ordered). The function should return these values.\n",
    "\n",
    "5. Define a function named `print_order_statistics` that takes `order_statistics` as a parameter. Inside the function, implement the code for printing the order statistics.\n",
    "\n",
    "6. Define a function named `print_updated_inventory` that takes `inventory` as a parameter. Inside the function, implement the code for printing the updated inventory.\n",
    "\n",
    "7. Call the functions in the appropriate sequence to execute the program and manage customer orders.\n",
    "\n",
    "Hints for functions:\n",
    "\n",
    "- Consider the input parameters required for each function and their return values.\n",
    "- Utilize function parameters and return values to transfer data between functions.\n",
    "- Test your functions individually to ensure they work correctly.\n",
    "\n",
    "\n"
   ]
  },
  {
   "cell_type": "code",
   "execution_count": 100,
   "id": "eb88b1c7-f839-40a5-be05-82dec918c1cd",
   "metadata": {},
   "outputs": [
    {
     "name": "stdin",
     "output_type": "stream",
     "text": [
      "how many t-shirt do you have?  5\n",
      "how many mug do you have?  10\n",
      "how many hat do you have?  15\n",
      "how many book do you have?  20\n",
      "how many keychain do you have?  25\n"
     ]
    },
    {
     "data": {
      "text/plain": [
       "{'t-shirt': 5, 'mug': 10, 'hat': 15, 'book': 20, 'keychain': 25}"
      ]
     },
     "execution_count": 100,
     "metadata": {},
     "output_type": "execute_result"
    }
   ],
   "source": [
    "# Step 1:\n",
    "# Define a function named initialize_inventory that takes products as a parameter. \n",
    "# Inside the function, implement the code for initializing the inventory dictionary using a loop and user input.\n",
    "\n",
    "products = [\"t-shirt\", \"mug\", \"hat\", \"book\", \"keychain\"]\n",
    "inventory = {}\n",
    "\n",
    "def initialize_inventory(products):\n",
    "    for product in products:\n",
    "        quantity = int(input(f\"how many {product} do you have? \")) \n",
    "        inventory[product] = quantity\n",
    "    return inventory\n",
    "initialize_inventory(products)"
   ]
  },
  {
   "cell_type": "code",
   "execution_count": 102,
   "id": "a67e4da8-1175-4763-b9bc-b28d9395b602",
   "metadata": {},
   "outputs": [
    {
     "name": "stdin",
     "output_type": "stream",
     "text": [
      "What product do you want to buy hat\n",
      "Do you want to add more products? (yes/no): yes\n",
      "What product do you want to buy mug\n",
      "Do you want to add more products? (yes/no): yes\n",
      "What product do you want to buy keychain\n",
      "Do you want to add more products? (yes/no): no\n"
     ]
    },
    {
     "name": "stdout",
     "output_type": "stream",
     "text": [
      "Ok thank you!\n"
     ]
    },
    {
     "data": {
      "text/plain": [
       "{'hat', 'keychain', 'mug'}"
      ]
     },
     "execution_count": 102,
     "metadata": {},
     "output_type": "execute_result"
    }
   ],
   "source": [
    "# Step 2:\n",
    "# Define a function named get_customer_orders that takes no parameters. \n",
    "#Inside the function, implement the code for prompting the user to enter the product names using a loop. \n",
    "#The function should return the customer_orders set.\n",
    "\n",
    "customer_orders = set() # still need a global parameter that's an empty set\n",
    "\n",
    "\n",
    "def get_customer_orders(): #the 3 products cutomer wants to buy.\n",
    "\n",
    "    while True:\n",
    "        order = input(\"What product do you want to buy\").strip().lower()\n",
    "        if order in products:\n",
    "            customer_orders.add(order)\n",
    "        else:\n",
    "            print(\"Invalid answer, please enter a product that's available\")\n",
    "            continue\n",
    "        add_product = str(input(\"Do you want to add more products? (yes/no):\").strip().lower())\n",
    "        if add_product == 'yes':\n",
    "            continue\n",
    "        elif add_product == \"no\":\n",
    "            print(\"Ok thank you!\")\n",
    "            break\n",
    "    return customer_orders\n",
    "\n",
    "get_customer_orders()"
   ]
  },
  {
   "cell_type": "code",
   "execution_count": null,
   "id": "0edd1cd1-7e58-4992-9882-9f429aed0bc6",
   "metadata": {},
   "outputs": [],
   "source": [
    "# 疑惑： 什么时候需要用def函数?什么时候用loop反而更简单？"
   ]
  },
  {
   "cell_type": "code",
   "execution_count": 104,
   "id": "00870a68-0736-4aa9-97e8-937d6751a9a7",
   "metadata": {},
   "outputs": [
    {
     "data": {
      "text/plain": [
       "{'t-shirt': 5, 'mug': 9, 'hat': 14, 'book': 20, 'keychain': 24}"
      ]
     },
     "execution_count": 104,
     "metadata": {},
     "output_type": "execute_result"
    }
   ],
   "source": [
    "#Step 3:\n",
    "# Define a function named update_inventory that takes customer_orders and inventory as parameters. \n",
    "# Inside the function, implement the code for updating the inventory dictionary based on the customer orders.\n",
    "# 还要进一步学习.copy method。\n",
    "\n",
    "def update_inventory(customer_orders,inventory):\n",
    "    updated_inventory = inventory.copy()\n",
    "    for key,value in inventory.items():\n",
    "        if key in customer_orders:\n",
    "            updated_inventory[key] = value - 1\n",
    "    return updated_inventory\n",
    "\n",
    "update_inventory(customer_orders,inventory)"
   ]
  },
  {
   "cell_type": "code",
   "execution_count": 175,
   "id": "b8a6610a-1dd6-4cff-80bd-f9e68d97e49a",
   "metadata": {},
   "outputs": [
    {
     "ename": "NameError",
     "evalue": "name 'total_product_ordered' is not defined",
     "output_type": "error",
     "traceback": [
      "\u001b[1;31m---------------------------------------------------------------------------\u001b[0m",
      "\u001b[1;31mNameError\u001b[0m                                 Traceback (most recent call last)",
      "Cell \u001b[1;32mIn[175], line 10\u001b[0m\n\u001b[0;32m      1\u001b[0m \u001b[38;5;66;03m# Step 4:\u001b[39;00m\n\u001b[0;32m      2\u001b[0m \u001b[38;5;66;03m# Define a function named calculate_order_statistics that takes customer_orders and products as parameters. \u001b[39;00m\n\u001b[0;32m      3\u001b[0m \u001b[38;5;66;03m# Inside the function, implement the code for calculating the order statistics (total products ordered, and percentage of unique products ordered). \u001b[39;00m\n\u001b[1;32m   (...)\u001b[0m\n\u001b[0;32m      7\u001b[0m \n\u001b[0;32m      8\u001b[0m \u001b[38;5;66;03m#def calculate_order_statistics(customer_orders,products):\u001b[39;00m\n\u001b[0;32m      9\u001b[0m \u001b[38;5;28;01mfor\u001b[39;00m item \u001b[38;5;129;01min\u001b[39;00m customer_orders:\n\u001b[1;32m---> 10\u001b[0m     total_product_ordered \u001b[38;5;241m+\u001b[39m\u001b[38;5;241m=\u001b[39m inventory\u001b[38;5;241m.\u001b[39mget(item)\n\u001b[0;32m     11\u001b[0m     \u001b[38;5;28mprint\u001b[39m (total_product_ordered)\n\u001b[0;32m     12\u001b[0m \u001b[38;5;28mprint\u001b[39m (total_product_ordered)\n",
      "\u001b[1;31mNameError\u001b[0m: name 'total_product_ordered' is not defined"
     ]
    }
   ],
   "source": [
    "# Step 4:\n",
    "# Define a function named calculate_order_statistics that takes customer_orders and products as parameters. \n",
    "# Inside the function, implement the code for calculating the order statistics (total products ordered, and percentage of unique products ordered). \n",
    "# The function should return these values.\n",
    "\n",
    "# 1.Total Products Ordered: The total number of products in the customer_orders set。求3样物品的和。\n",
    "\n",
    "#def calculate_order_statistics(customer_orders,products):\n",
    "for item in customer_orders:\n",
    "     += inventory.get(item)\n",
    "    print (total_product_ordered)\n",
    "print (total_product_ordered)   \n",
    "# TypeError: 'int' object is not iterable\n",
    "    \n",
    "    #return total_product_ordered, percentage_unique_product_ordered\n",
    "\n",
    "\n",
    "# 2. Percentage of individual products ordered: The percentage of each products ordered compared to the total available products. \n",
    "\n",
    "#percentage_unique_ordered = inventory. / sum(inventory.values() ) * 100\n",
    "\n",
    "    \n",
    "    \n",
    "    \n",
    "\n"
   ]
  },
  {
   "cell_type": "code",
   "execution_count": null,
   "id": "d018677e-7b2a-42a1-939b-aad3b40fdc74",
   "metadata": {},
   "outputs": [],
   "source": []
  }
 ],
 "metadata": {
  "kernelspec": {
   "display_name": "Python [conda env:base] *",
   "language": "python",
   "name": "conda-base-py"
  },
  "language_info": {
   "codemirror_mode": {
    "name": "ipython",
    "version": 3
   },
   "file_extension": ".py",
   "mimetype": "text/x-python",
   "name": "python",
   "nbconvert_exporter": "python",
   "pygments_lexer": "ipython3",
   "version": "3.12.7"
  }
 },
 "nbformat": 4,
 "nbformat_minor": 5
}
