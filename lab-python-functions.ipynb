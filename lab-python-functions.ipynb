{
 "cells": [
  {
   "cell_type": "markdown",
   "id": "25d7736c-ba17-4aff-b6bb-66eba20fbf4e",
   "metadata": {},
   "source": [
    "# Lab | Functions"
   ]
  },
  {
   "cell_type": "markdown",
   "id": "0c581062-8967-4d93-b06e-62833222f930",
   "metadata": {
    "tags": []
   },
   "source": [
    "## Exercise: Managing Customer Orders with Functions\n",
    "\n",
    "In the previous exercise, you improved the code for managing customer orders by using loops and flow control. Now, let's take it a step further and refactor the code by introducing functions.\n",
    "\n",
    "Follow the steps below to complete the exercise:\n",
    "\n",
    "1. Define a function named `initialize_inventory` that takes `products` as a parameter. Inside the function, implement the code for initializing the inventory dictionary using a loop and user input.\n",
    "\n",
    "2. Define a function named `get_customer_orders` that takes no parameters. Inside the function, implement the code for prompting the user to enter the product names using a loop. The function should return the `customer_orders` set.\n",
    "\n",
    "3. Define a function named `update_inventory` that takes `customer_orders` and `inventory` as parameters. Inside the function, implement the code for updating the inventory dictionary based on the customer orders.\n",
    "\n",
    "4. Define a function named `calculate_order_statistics` that takes `customer_orders` and `products` as parameters. Inside the function, implement the code for calculating the order statistics (total products ordered, and percentage of unique products ordered). The function should return these values.\n",
    "\n",
    "5. Define a function named `print_order_statistics` that takes `order_statistics` as a parameter. Inside the function, implement the code for printing the order statistics.\n",
    "\n",
    "6. Define a function named `print_updated_inventory` that takes `inventory` as a parameter. Inside the function, implement the code for printing the updated inventory.\n",
    "\n",
    "7. Call the functions in the appropriate sequence to execute the program and manage customer orders.\n",
    "\n",
    "Hints for functions:\n",
    "\n",
    "- Consider the input parameters required for each function and their return values.\n",
    "- Utilize function parameters and return values to transfer data between functions.\n",
    "- Test your functions individually to ensure they work correctly.\n",
    "\n",
    "\n"
   ]
  },
  {
   "cell_type": "code",
   "execution_count": 15,
   "id": "bc747d50-0f6e-4448-8164-524772607451",
   "metadata": {},
   "outputs": [
    {
     "name": "stdin",
     "output_type": "stream",
     "text": [
      "How many t-shirt do you have? 5\n",
      "How many mug do you have? 10\n",
      "How many hat do you have? 15\n",
      "How many book do you have? 20\n",
      "How many keychain do you have? 25\n"
     ]
    },
    {
     "data": {
      "text/plain": [
       "{'t-shirt': 5, 'mug': 10, 'hat': 15, 'book': 20, 'keychain': 25}"
      ]
     },
     "execution_count": 15,
     "metadata": {},
     "output_type": "execute_result"
    }
   ],
   "source": [
    "# 1: Define a function named initialize_inventory that takes products as a parameter. \n",
    "# Inside the function, implement the code for initializing the inventory dictionary using a loop and user input.\n",
    "products = [\"t-shirt\", \"mug\", \"hat\", \"book\", \"keychain\"]\n",
    "inventory = {}\n",
    "def initialize_inventory():\n",
    "    for product in products:\n",
    "        product_qty = input(f\"How many {product} do you have?\")\n",
    "        inventory[product] = int(product_qty)\n",
    "    return inventory\n",
    "initialize_inventory()"
   ]
  },
  {
   "cell_type": "code",
   "execution_count": 3,
   "id": "e6da7779-0aba-4e71-b089-9bccaa2f9415",
   "metadata": {},
   "outputs": [
    {
     "name": "stdin",
     "output_type": "stream",
     "text": [
      "What's the 1st product you want to order? mug\n",
      "Do you want to add another product? yes or no? yes\n",
      "Please name your added product. book\n",
      "Do you want to add another product? yes or no? yes\n",
      "Please name your added product. hat\n",
      "Do you want to add another product? yes or no? no\n"
     ]
    },
    {
     "name": "stdout",
     "output_type": "stream",
     "text": [
      "Thank you. Here are the products you ordered:\n"
     ]
    },
    {
     "data": {
      "text/plain": [
       "{'book', 'hat', 'mug'}"
      ]
     },
     "execution_count": 3,
     "metadata": {},
     "output_type": "execute_result"
    }
   ],
   "source": [
    "# 2. Define a function named get_customer_orders that takes no parameters. \n",
    "# Inside the function, implement the code for prompting the user to enter the product names using a loop. \n",
    "# The function should return the customer_orders set.\n",
    "customer_orders = set() #❗这里要用 set()\n",
    "def get_customer_orders():\n",
    "    order = input(\"What's the 1st product you want to order?\")\n",
    "    customer_orders.add(order)\n",
    "\n",
    "    add_another_product = input(\"Do you want to add another product? yes or no?\")\n",
    "\n",
    "    while add_another_product.lower() == \"yes\":\n",
    "        new_product = input(\"Please name your added product.\")\n",
    "        customer_orders.add(new_product)\n",
    "        add_another_product = input(\"Do you want to add another product? yes or no?\")\n",
    "    else: \n",
    "        print(f\"Thank you. Here are the products you ordered:\")\n",
    "\n",
    "    return customer_orders\n",
    "\n",
    "get_customer_orders()   "
   ]
  },
  {
   "cell_type": "code",
   "execution_count": 5,
   "id": "ac053f4e-0a14-48a0-ba44-750a5585b79e",
   "metadata": {},
   "outputs": [
    {
     "data": {
      "text/plain": [
       "{'t-shirt': 5, 'mug': 9, 'hat': 14, 'book': 19, 'keychain': 25}"
      ]
     },
     "execution_count": 5,
     "metadata": {},
     "output_type": "execute_result"
    }
   ],
   "source": [
    "# 3. Define a function named update_inventory that takes customer_orders and inventory as parameters. \n",
    "# Inside the function, implement the code for updating the inventory dictionary based on the customer orders.\n",
    "\n",
    "def update_inventory(customer_orders):\n",
    "    for product in customer_orders:\n",
    "        inventory[product] = inventory[product]-1\n",
    "    return inventory\n",
    "update_inventory(customer_orders)"
   ]
  },
  {
   "cell_type": "code",
   "execution_count": 7,
   "id": "41279b35-76a2-45c1-8285-230cd0cbb2dd",
   "metadata": {},
   "outputs": [
    {
     "data": {
      "text/plain": [
       "(3, 60.0)"
      ]
     },
     "execution_count": 7,
     "metadata": {},
     "output_type": "execute_result"
    }
   ],
   "source": [
    "# 4. Define a function named calculate_order_statistics that takes customer_orders and products as parameters. \n",
    "# Inside the function, implement the code for calculating the order statistics (total products ordered, and percentage of unique products ordered). \n",
    "# The function should return these values.\n",
    "\n",
    "def calculate_order_statistics(customer_orders,products):\n",
    "    total_products_ordered = len(customer_orders)\n",
    "    percentage_of_products_ordered = total_products_ordered / len(products)*100\n",
    "    return total_products_ordered, percentage_of_products_ordered\n",
    "calculate_order_statistics(customer_orders,products)  "
   ]
  },
  {
   "cell_type": "code",
   "execution_count": 98,
   "id": "279f55ad-e623-473d-92ff-fbb837ba4ee8",
   "metadata": {},
   "outputs": [
    {
     "ename": "NameError",
     "evalue": "name 'order_statistics' is not defined",
     "output_type": "error",
     "traceback": [
      "\u001b[1;31m---------------------------------------------------------------------------\u001b[0m",
      "\u001b[1;31mNameError\u001b[0m                                 Traceback (most recent call last)",
      "Cell \u001b[1;32mIn[98], line 6\u001b[0m\n\u001b[0;32m      4\u001b[0m     total_products_ordered, percentage_of_products_ordered \u001b[38;5;241m=\u001b[39m order_statistics\n\u001b[0;32m      5\u001b[0m     \u001b[38;5;28mprint\u001b[39m(\u001b[38;5;124mf\u001b[39m\u001b[38;5;124m\"\u001b[39m\u001b[38;5;124mqty of total products_ordered: \u001b[39m\u001b[38;5;132;01m{\u001b[39;00mtotal_products_ordered\u001b[38;5;132;01m}\u001b[39;00m\u001b[38;5;130;01m\\n\u001b[39;00m\u001b[38;5;124m percentage_of_prodcuts_ordered is\u001b[39m\u001b[38;5;132;01m{\u001b[39;00mpercentage_of_products_ordered\u001b[38;5;132;01m:\u001b[39;00m\u001b[38;5;124m .2f\u001b[39m\u001b[38;5;132;01m}\u001b[39;00m\u001b[38;5;124m%\u001b[39m\u001b[38;5;124m\"\u001b[39m)\n\u001b[1;32m----> 6\u001b[0m print_order_statistics(order_statistics)\n",
      "\u001b[1;31mNameError\u001b[0m: name 'order_statistics' is not defined"
     ]
    }
   ],
   "source": [
    "# 5. Define a function named print_order_statistics that takes order_statistics as a parameter. \n",
    "# Inside the function, implement the code for printing the order statistics.\n",
    "def print_order_statistics(order_statistics):\n",
    "    total_products_ordered, percentage_of_products_ordered = order_statistics\n",
    "    print(f\"qty of total products_ordered: {total_products_ordered}\\n percentage_of_prodcuts_ordered is{percentage_of_products_ordered: .2f}%\")\n",
    "print_order_statistics(order_statistics)"
   ]
  },
  {
   "cell_type": "code",
   "execution_count": 9,
   "id": "78e8dd23-7d5f-4f91-b83d-db9e31a95892",
   "metadata": {},
   "outputs": [
    {
     "name": "stdout",
     "output_type": "stream",
     "text": [
      "t-shirt: 5\n",
      "mug: 9\n",
      "hat: 14\n",
      "book: 19\n",
      "keychain: 25\n"
     ]
    }
   ],
   "source": [
    "# 6. Define a function named print_updated_inventory that takes inventory as a parameter. \n",
    "# Inside the function, implement the code for printing the updated inventory.\n",
    "def updated_inventory(inventory):\n",
    "    for item, quantity in inventory.items():\n",
    "        print(f\"{item}: {quantity}\")\n",
    "updated_inventory(inventory)"
   ]
  },
  {
   "cell_type": "code",
   "execution_count": 11,
   "id": "f2844d53-ab9d-47ca-935e-5b7d3e215e2f",
   "metadata": {},
   "outputs": [
    {
     "name": "stdin",
     "output_type": "stream",
     "text": [
      "How many t-shirt do you have? 5\n",
      "How many mug do you have? 10\n",
      "How many hat do you have? 15\n",
      "How many book do you have? 20\n",
      "How many keychain do you have? 25\n",
      "What's the 1st product you want to order? mug\n",
      "Do you want to add another product? yes or no? yes\n",
      "Please name your added product. book\n",
      "Do you want to add another product? yes or no? yes\n",
      "Please name your added product. hat\n",
      "Do you want to add another product? yes or no? no\n"
     ]
    },
    {
     "name": "stdout",
     "output_type": "stream",
     "text": [
      "Thank you. Here are the products you ordered:\n",
      "t-shirt: 5\n",
      "mug: 9\n",
      "hat: 14\n",
      "book: 19\n",
      "keychain: 25\n"
     ]
    }
   ],
   "source": [
    "# 7. Call the functions in the appropriate sequence to execute the program and manage customer orders.\n",
    "initialize_inventory(products)\n",
    "get_customer_orders()\n",
    "update_inventory(customer_orders)\n",
    "calculate_order_statistics(customer_orders,products)\n",
    "updated_inventory(inventory)"
   ]
  },
  {
   "cell_type": "code",
   "execution_count": null,
   "id": "01856dc2-9590-46b2-87e5-b60beffe00af",
   "metadata": {},
   "outputs": [],
   "source": []
  }
 ],
 "metadata": {
  "kernelspec": {
   "display_name": "Python [conda env:base] *",
   "language": "python",
   "name": "conda-base-py"
  },
  "language_info": {
   "codemirror_mode": {
    "name": "ipython",
    "version": 3
   },
   "file_extension": ".py",
   "mimetype": "text/x-python",
   "name": "python",
   "nbconvert_exporter": "python",
   "pygments_lexer": "ipython3",
   "version": "3.12.7"
  }
 },
 "nbformat": 4,
 "nbformat_minor": 5
}
